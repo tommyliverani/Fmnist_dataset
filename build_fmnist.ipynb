{
  "nbformat": 4,
  "nbformat_minor": 0,
  "metadata": {
    "colab": {
      "name": "build_fmnist.ipynb",
      "provenance": [],
      "collapsed_sections": [],
      "authorship_tag": "ABX9TyOb3a/upYlsg08AFX8Llkpm",
      "include_colab_link": true
    },
    "kernelspec": {
      "display_name": "Python 3",
      "name": "python3"
    }
  },
  "cells": [
    {
      "cell_type": "markdown",
      "metadata": {
        "id": "view-in-github",
        "colab_type": "text"
      },
      "source": [
        "<a href=\"https://colab.research.google.com/github/tommyliverani/Fmnist_dataset/blob/main/build_fmnist.ipynb\" target=\"_parent\"><img src=\"https://colab.research.google.com/assets/colab-badge.svg\" alt=\"Open In Colab\"/></a>"
      ]
    },
    {
      "cell_type": "code",
      "metadata": {
        "colab": {
          "base_uri": "https://localhost:8080/"
        },
        "id": "XtoJm2la-oV4",
        "outputId": "fc092c40-b0a2-4811-d6ad-50755c71866f"
      },
      "source": [
        "# tensorflow_federated_nightly also bring in tf_nightly, which\r\n",
        "# can causes a duplicate tensorboard install, leading to errors.\r\n",
        "!pip uninstall --yes tensorboard tb-nightly\r\n",
        "\r\n",
        "!pip install --quiet --upgrade tensorflow_federated_nightly\r\n",
        "!pip install --quiet --upgrade nest_asyncio\r\n",
        "!pip install --quiet tb-nightly  # or tensorboard, but not both\r\n",
        "\r\n",
        "import nest_asyncio\r\n",
        "nest_asyncio.apply()"
      ],
      "execution_count": 1,
      "outputs": [
        {
          "output_type": "stream",
          "text": [
            "\u001b[33mWARNING: Skipping tensorboard as it is not installed.\u001b[0m\n",
            "Uninstalling tb-nightly-2.5.0a20210124:\n",
            "  Successfully uninstalled tb-nightly-2.5.0a20210124\n",
            "\u001b[31mERROR: tf-nightly 2.5.0.dev20210124 has requirement grpcio~=1.34.0, but you'll have grpcio 1.32.0 which is incompatible.\u001b[0m\n",
            "\u001b[31mERROR: tf-nightly 2.5.0.dev20210124 has requirement h5py~=3.1.0, but you'll have h5py 2.10.0 which is incompatible.\u001b[0m\n"
          ],
          "name": "stdout"
        }
      ]
    },
    {
      "cell_type": "code",
      "metadata": {
        "id": "LgRpuZzWCfdz"
      },
      "source": [
        "%load_ext tensorboard"
      ],
      "execution_count": 2,
      "outputs": []
    },
    {
      "cell_type": "code",
      "metadata": {
        "id": "arM_Y5WJCgW6",
        "colab": {
          "base_uri": "https://localhost:8080/"
        },
        "outputId": "f7c88d24-62fa-4849-c9d3-de5d22d1f61d"
      },
      "source": [
        "import collections\r\n",
        "import torch\r\n",
        "import numpy as np\r\n",
        "import tensorflow as tf\r\n",
        "import tensorflow_federated as tff\r\n",
        "import pandas as pd\r\n",
        "from utils import create_dictionary\r\n",
        "np.random.seed(0)\r\n",
        "\r\n",
        "tff.federated_computation(lambda: 'Hello, World!')()"
      ],
      "execution_count": 3,
      "outputs": [
        {
          "output_type": "stream",
          "text": [
            "WARNING:tensorflow:From /usr/local/lib/python3.6/dist-packages/tensorflow_federated/python/core/impl/compiler/tensorflow_computation_transformations.py:59: extract_sub_graph (from tensorflow.python.framework.graph_util_impl) is deprecated and will be removed in a future version.\n",
            "Instructions for updating:\n",
            "Use `tf.compat.v1.graph_util.extract_sub_graph`\n"
          ],
          "name": "stdout"
        },
        {
          "output_type": "stream",
          "text": [
            "/usr/local/lib/python3.6/dist-packages/tensorflow_addons/utils/ensure_tf_install.py:43: UserWarning: You are currently using a nightly version of TensorFlow (2.5.0-dev20210124). \n",
            "TensorFlow Addons offers no support for the nightly versions of TensorFlow. Some things might work, some other might not. \n",
            "If you encounter a bug, do not file an issue on GitHub.\n",
            "  UserWarning,\n",
            "WARNING:tensorflow:From /usr/local/lib/python3.6/dist-packages/tensorflow_federated/python/core/impl/compiler/tensorflow_computation_transformations.py:59: extract_sub_graph (from tensorflow.python.framework.graph_util_impl) is deprecated and will be removed in a future version.\n",
            "Instructions for updating:\n",
            "Use `tf.compat.v1.graph_util.extract_sub_graph`\n"
          ],
          "name": "stderr"
        },
        {
          "output_type": "execute_result",
          "data": {
            "text/plain": [
              "b'Hello, World!'"
            ]
          },
          "metadata": {
            "tags": []
          },
          "execution_count": 3
        }
      ]
    },
    {
      "cell_type": "code",
      "metadata": {
        "id": "5E4cqjeECT_R"
      },
      "source": [
        "emnist_train, emnist_test = tff.simulation.datasets.emnist.load_data()"
      ],
      "execution_count": 4,
      "outputs": []
    },
    {
      "cell_type": "code",
      "metadata": {
        "id": "qtvcmWbL3Z2a"
      },
      "source": [
        "for i in range(10):\r\n",
        "   client_dataset = emnist_train.create_tf_dataset_for_client(\r\n",
        "      emnist_train.client_ids[i])\r\n",
        "   d =create_dictionary(client_dataset,['label','pixels'])\r\n",
        "   torch.save(d,'train_{0}.pt'.format(i))"
      ],
      "execution_count": 6,
      "outputs": []
    },
    {
      "cell_type": "code",
      "metadata": {
        "id": "sJzjzlgQ-lve"
      },
      "source": [
        "for i in range(10):\r\n",
        "   client_dataset = emnist_test.create_tf_dataset_for_client(\r\n",
        "      emnist_test.client_ids[i])\r\n",
        "   d =create_dictionary(client_dataset,['label','pixels'])\r\n",
        "   torch.save(d,'test_{0}.pt'.format(i))"
      ],
      "execution_count": 7,
      "outputs": []
    }
  ]
}